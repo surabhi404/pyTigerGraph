{
  "nbformat": 4,
  "nbformat_minor": 0,
  "metadata": {
    "colab": {
      "name": "pyTigerGraph 101",
      "provenance": [],
      "collapsed_sections": [],
      "include_colab_link": true
    },
    "kernelspec": {
      "display_name": "Python 3",
      "name": "python3"
    },
    "language_info": {
      "name": "python"
    }
  },
  "cells": [
    {
      "cell_type": "markdown",
      "metadata": {
        "id": "view-in-github",
        "colab_type": "text"
      },
      "source": [
        "<a href=\"https://colab.research.google.com/github/surabhi404/pyTigerGraph/blob/main/pyTigerGraph_101.ipynb\" target=\"_parent\"><img src=\"https://colab.research.google.com/assets/colab-badge.svg\" alt=\"Open In Colab\"/></a>"
      ]
    },
    {
      "cell_type": "markdown",
      "metadata": {
        "id": "owRhnxW15t_w"
      },
      "source": [
        "## Install pyTigerGraph"
      ]
    },
    {
      "cell_type": "code",
      "metadata": {
        "id": "JmsrV-SNnx31",
        "colab": {
          "base_uri": "https://localhost:8080/"
        },
        "outputId": "07c47040-2638-4174-8271-d46298426ce6"
      },
      "source": [
        "# Setup\n",
        "!pip install -U pyTigerGraph"
      ],
      "execution_count": null,
      "outputs": [
        {
          "output_type": "stream",
          "name": "stdout",
          "text": [
            "Requirement already satisfied: pyTigerGraph in /usr/local/lib/python3.7/dist-packages (0.0.9.9.2)\n",
            "Requirement already satisfied: pyTigerDriver in /usr/local/lib/python3.7/dist-packages (from pyTigerGraph) (1.0.14)\n",
            "Requirement already satisfied: pandas in /usr/local/lib/python3.7/dist-packages (from pyTigerGraph) (1.3.5)\n",
            "Requirement already satisfied: requests in /usr/local/lib/python3.7/dist-packages (from pyTigerGraph) (2.23.0)\n",
            "Requirement already satisfied: validators in /usr/local/lib/python3.7/dist-packages (from pyTigerGraph) (0.18.2)\n",
            "Requirement already satisfied: numpy>=1.17.3 in /usr/local/lib/python3.7/dist-packages (from pandas->pyTigerGraph) (1.21.5)\n",
            "Requirement already satisfied: pytz>=2017.3 in /usr/local/lib/python3.7/dist-packages (from pandas->pyTigerGraph) (2018.9)\n",
            "Requirement already satisfied: python-dateutil>=2.7.3 in /usr/local/lib/python3.7/dist-packages (from pandas->pyTigerGraph) (2.8.2)\n",
            "Requirement already satisfied: six>=1.5 in /usr/local/lib/python3.7/dist-packages (from python-dateutil>=2.7.3->pandas->pyTigerGraph) (1.15.0)\n",
            "Requirement already satisfied: urllib3!=1.25.0,!=1.25.1,<1.26,>=1.21.1 in /usr/local/lib/python3.7/dist-packages (from requests->pyTigerGraph) (1.24.3)\n",
            "Requirement already satisfied: chardet<4,>=3.0.2 in /usr/local/lib/python3.7/dist-packages (from requests->pyTigerGraph) (3.0.4)\n",
            "Requirement already satisfied: certifi>=2017.4.17 in /usr/local/lib/python3.7/dist-packages (from requests->pyTigerGraph) (2021.10.8)\n",
            "Requirement already satisfied: idna<3,>=2.5 in /usr/local/lib/python3.7/dist-packages (from requests->pyTigerGraph) (2.10)\n",
            "Requirement already satisfied: decorator>=3.4.0 in /usr/local/lib/python3.7/dist-packages (from validators->pyTigerGraph) (4.4.2)\n"
          ]
        }
      ]
    },
    {
      "cell_type": "markdown",
      "metadata": {
        "id": "pSsJAzc_5yNN"
      },
      "source": [
        "## Add Imports and Establish Initial Connection"
      ]
    },
    {
      "cell_type": "code",
      "metadata": {
        "colab": {
          "base_uri": "https://localhost:8080/"
        },
        "id": "vqpwQh1_noLK",
        "outputId": "14acec8d-7aae-45c9-b6fc-4cf74eb87b88"
      },
      "source": [
        "# Imports\n",
        "import pyTigerGraph as tg\n",
        "import json\n",
        "import pandas as pd\n",
        "\n",
        "# Connection parameters\n",
        "hostName = \"https://35test.i.tgcloud.io\"\n",
        "userName = \"tigergraph\"\n",
        "password = \"tigergraph\"\n",
        "\n",
        "conn = tg.TigerGraphConnection(host=hostName, username=userName, password=password)\n",
        "\n",
        "print(\"Connected\")"
      ],
      "execution_count": null,
      "outputs": [
        {
          "output_type": "stream",
          "name": "stdout",
          "text": [
            "Connected\n"
          ]
        }
      ]
    },
    {
      "cell_type": "markdown",
      "metadata": {
        "id": "SDPUKGDc55bJ"
      },
      "source": [
        "## Define and Publish the Schema"
      ]
    },
    {
      "cell_type": "code",
      "metadata": {
        "id": "tbLUKiA4oSKX",
        "colab": {
          "base_uri": "https://localhost:8080/"
        },
        "outputId": "667f0a7d-1789-44e7-a870-0e424db237ed"
      },
      "source": [
        "# DEFINE / CREATE ALL EDGES AND VERTICES \n",
        "results = conn.gsql('''\n",
        "  USE GLOBAL\n",
        "  CREATE VERTEX Person (PRIMARY_ID id STRING, name STRING, email STRING, username STRING, created_at DATETIME) WITH primary_id_as_attribute=\"true\"\n",
        "  CREATE VERTEX Post (PRIMARY_ID id STRING, content STRING, posted_date DATETIME, deleted BOOL) WITH primary_id_as_attribute=\"true\"\n",
        "  CREATE VERTEX Hashtag (PRIMARY_ID tag STRING) WITH primary_id_as_attribute=\"true\"\n",
        "  CREATE VERTEX Message (PRIMARY_ID id STRING, subject STRING, body STRING) WITH primary_id_as_attribute=\"true\"\n",
        "  CREATE DIRECTED EDGE posted (From Person, To Post, post_date DATETIME) WITH REVERSE_EDGE=\"reverse_posted\"\n",
        "  CREATE DIRECTED EDGE liked (From Person, To Post, like_date DATETIME) WITH REVERSE_EDGE=\"reverse_liked\"\n",
        "  CREATE DIRECTED EDGE has_tag (From Post, To Hashtag) WITH REVERSE_EDGE=\"reverse_has_tag\"\n",
        "  CREATE DIRECTED EDGE sent_message (From Person, To Message, to_person STRING, sent_date DATETIME) WITH REVERSE_EDGE=\"reverse_sent_message\"\n",
        "  CREATE DIRECTED EDGE received_message (From Message, To Person, from_person STRING, receive_date DATETIME, opened_date DATETIME) WITH REVERSE_EDGE=\"reverse_received_message\"\n",
        "''')\n",
        "print(results)"
      ],
      "execution_count": null,
      "outputs": [
        {
          "output_type": "stream",
          "name": "stdout",
          "text": [
            "Successfully created vertex types: [Person].\n",
            "Successfully created vertex types: [Post].\n",
            "Successfully created vertex types: [Hashtag].\n",
            "Successfully created vertex types: [Message].\n",
            "Successfully created edge types: [posted].\n",
            "Successfully created reverse edge types: [reverse_posted].\n",
            "Successfully created edge types: [liked].\n",
            "Successfully created reverse edge types: [reverse_liked].\n",
            "Successfully created edge types: [has_tag].\n",
            "Successfully created reverse edge types: [reverse_has_tag].\n",
            "Successfully created edge types: [sent_message].\n",
            "Successfully created reverse edge types: [reverse_sent_message].\n",
            "Successfully created edge types: [received_message].\n",
            "Successfully created reverse edge types: [reverse_received_message].\n"
          ]
        }
      ]
    },
    {
      "cell_type": "markdown",
      "metadata": {
        "id": "bMz6fxfx59Xz"
      },
      "source": [
        "## Create the Graph"
      ]
    },
    {
      "cell_type": "code",
      "metadata": {
        "id": "-cgC8b7OcZDd"
      },
      "source": [
        "results = conn.gsql('CREATE GRAPH MyGraph(Person, Post, Hashtag, Message, posted, reverse_posted, liked, reverse_liked, has_tag, reverse_has_tag, sent_message, reverse_sent_message, received_message, reverse_received_message)')"
      ],
      "execution_count": null,
      "outputs": []
    },
    {
      "cell_type": "code",
      "metadata": {
        "id": "SbxyEaptc2Ri",
        "colab": {
          "base_uri": "https://localhost:8080/"
        },
        "outputId": "83f159ed-046c-4e8c-e286-ebb0afcd1c22"
      },
      "source": [
        "conn.graphname=\"MyGraph\"\n",
        "secret = conn.createSecret()\n",
        "authToken = conn.getToken(secret)\n",
        "authToken = authToken[0]\n",
        "print(authToken)\n",
        "# authToken = 'rc7reopbis1667ksgcppq5v5fb99p6s1'\n",
        "conn = tg.TigerGraphConnection(host=hostName, graphname=\"MyGraph\", username=userName, password=password, apiToken=authToken)\n",
        "\n",
        "def pprint(string):\n",
        "  print(json.dumps(string, indent=2))"
      ],
      "execution_count": null,
      "outputs": [
        {
          "output_type": "stream",
          "name": "stdout",
          "text": [
            "51d6aqmvn7r9mi7v07o4bo9neb68el0q\n"
          ]
        }
      ]
    },
    {
      "cell_type": "markdown",
      "metadata": {
        "id": "e4ITTdsTjSZl"
      },
      "source": [
        "## Clone the Data"
      ]
    },
    {
      "cell_type": "code",
      "metadata": {
        "id": "jd3ybHzHeJKU",
        "colab": {
          "base_uri": "https://localhost:8080/"
        },
        "outputId": "9b8eeb43-4c75-4395-eb72-719a47da9224"
      },
      "source": [
        "!git clone https://github.com/DanBarkus/TigerGraph-101.git"
      ],
      "execution_count": null,
      "outputs": [
        {
          "output_type": "stream",
          "name": "stdout",
          "text": [
            "Cloning into 'TigerGraph-101'...\n",
            "remote: Enumerating objects: 7, done.\u001b[K\n",
            "remote: Counting objects: 100% (7/7), done.\u001b[K\n",
            "remote: Compressing objects: 100% (5/5), done.\u001b[K\n",
            "remote: Total 7 (delta 1), reused 7 (delta 1), pack-reused 0\u001b[K\n",
            "Unpacking objects: 100% (7/7), done.\n"
          ]
        }
      ]
    },
    {
      "cell_type": "markdown",
      "metadata": {
        "id": "MTWWoepV6Dc0"
      },
      "source": [
        "## Create Loading Jobs"
      ]
    },
    {
      "cell_type": "markdown",
      "metadata": {
        "id": "Up4f5hmq7MZl"
      },
      "source": [
        "### Posts"
      ]
    },
    {
      "cell_type": "markdown",
      "metadata": {
        "id": "oXH8W3KIjVUC"
      },
      "source": [
        "Let's take a look at what one of our files looks like so we can write a loading job."
      ]
    },
    {
      "cell_type": "code",
      "metadata": {
        "colab": {
          "base_uri": "https://localhost:8080/"
        },
        "id": "dV1wMpIMeZaY",
        "outputId": "f8d417ed-8966-4c70-ff93-9a5cdc08c8c3"
      },
      "source": [
        "!head -n 2 /content/TigerGraph-101/posts.csv"
      ],
      "execution_count": null,
      "outputs": [
        {
          "name": "stdout",
          "output_type": "stream",
          "text": [
            "id,content,posted_date,by_user,deleted,hashtag_1,hashtag_2,hashtag_3,hashtag_4\n",
            "1,\"Proin interdum mauris non ligula pellentesque ultrices. Phasellus id sapien in sapien iaculis congue. Vivamus metus arcu, adipiscing molestie, hendrerit at, vulputate vitae, nisl. Aenean lectus. Pellentesque eget nunc. Donec quis orci eget orci vehicula condimentum. Curabitur in libero ut massa volutpat convallis. Morbi odio odio, elementum eu, interdum eu, tincidunt in, leo.\",2019-08-04 20:43:08,69,False,Compatible,Organized,,workforce\n"
          ]
        }
      ]
    },
    {
      "cell_type": "markdown",
      "metadata": {
        "id": "cxgULtty6JXS"
      },
      "source": [
        "This one and the messages file will look like a mess in this display because they contain sentances of text as dummy data which makes them not show up too well in the csv preview. You can just reference the header through for loading jobs."
      ]
    },
    {
      "cell_type": "markdown",
      "metadata": {
        "id": "M7Y081TD6Xh5"
      },
      "source": [
        "Here it's important to note that the `$0`, `$1` values line up with the columns of your data.\n",
        "In this example:\n",
        "- `$0` is the `id` column,\n",
        "- `$1` is `content`,\n",
        "- `$2` is `posted_date`\n",
        "- and so on"
      ]
    },
    {
      "cell_type": "code",
      "metadata": {
        "colab": {
          "base_uri": "https://localhost:8080/"
        },
        "id": "22W6W58idFW5",
        "outputId": "047df31a-02e9-4ba3-dbba-713de96ba92a"
      },
      "source": [
        "results = conn.gsql('''\n",
        "  USE GRAPH MyGraph\n",
        "  BEGIN\n",
        "  CREATE LOADING JOB load_posts FOR GRAPH MyGraph {\n",
        "  DEFINE FILENAME MyDataSource;\n",
        "  LOAD MyDataSource TO VERTEX Post VALUES($0, $1, $2, $4) USING SEPARATOR=\",\", HEADER=\"true\", EOL=\"\\\\n\", QUOTE=\"double\";\n",
        "  LOAD MyDataSource TO VERTEX Hashtag VALUES($5) USING SEPARATOR=\",\", HEADER=\"true\", EOL=\"\\\\n\", QUOTE=\"double\";\n",
        "  LOAD MyDataSource TO VERTEX Hashtag VALUES($6) USING SEPARATOR=\",\", HEADER=\"true\", EOL=\"\\\\n\", QUOTE=\"double\";\n",
        "  LOAD MyDataSource TO VERTEX Hashtag VALUES($7) USING SEPARATOR=\",\", HEADER=\"true\", EOL=\"\\\\n\", QUOTE=\"double\";\n",
        "  LOAD MyDataSource TO VERTEX Hashtag VALUES($8) USING SEPARATOR=\",\", HEADER=\"true\", EOL=\"\\\\n\", QUOTE=\"double\";\n",
        "  LOAD MyDataSource TO EDGE posted VALUES($3, $0, $2) USING SEPARATOR=\",\", HEADER=\"true\", EOL=\"\\\\n\", QUOTE=\"double\";\n",
        "  LOAD MyDataSource TO EDGE has_tag VALUES($0, $5) USING SEPARATOR=\",\", HEADER=\"true\", EOL=\"\\\\n\", QUOTE=\"double\";\n",
        "  LOAD MyDataSource TO EDGE has_tag VALUES($0, $6) USING SEPARATOR=\",\", HEADER=\"true\", EOL=\"\\\\n\", QUOTE=\"double\";\n",
        "  LOAD MyDataSource TO EDGE has_tag VALUES($0, $7) USING SEPARATOR=\",\", HEADER=\"true\", EOL=\"\\\\n\", QUOTE=\"double\";\n",
        "  LOAD MyDataSource TO EDGE has_tag VALUES($0, $8) USING SEPARATOR=\",\", HEADER=\"true\", EOL=\"\\\\n\", QUOTE=\"double\";\n",
        "  }\n",
        "  END\n",
        "  ''')\n",
        "print(results)"
      ],
      "execution_count": null,
      "outputs": [
        {
          "output_type": "stream",
          "name": "stdout",
          "text": [
            "Using graph 'MyGraph'\n",
            "The job load_posts is created.\n"
          ]
        }
      ]
    },
    {
      "cell_type": "markdown",
      "metadata": {
        "id": "bt7d2uQH7PQ8"
      },
      "source": [
        "### Likes"
      ]
    },
    {
      "cell_type": "code",
      "metadata": {
        "colab": {
          "base_uri": "https://localhost:8080/"
        },
        "id": "Ss_CClYVgGvJ",
        "outputId": "4d8ee296-1908-4839-abf5-16c9cb469478"
      },
      "source": [
        "!head -n 2 /content/TigerGraph-101/likes.csv"
      ],
      "execution_count": null,
      "outputs": [
        {
          "output_type": "stream",
          "name": "stdout",
          "text": [
            "head: cannot open '/content/TigerGraph-101/likes.csv' for reading: No such file or directory\n"
          ]
        }
      ]
    },
    {
      "cell_type": "code",
      "metadata": {
        "id": "rcd8zeEHgCs2",
        "colab": {
          "base_uri": "https://localhost:8080/"
        },
        "outputId": "b0935d86-6790-4e7a-8c55-9644d2128906"
      },
      "source": [
        "results = conn.gsql('''\n",
        "  USE GRAPH MyGraph\n",
        "  BEGIN\n",
        "  CREATE LOADING JOB load_likes FOR GRAPH MyGraph {\n",
        "  DEFINE FILENAME MyDataSource;\n",
        "  LOAD MyDataSource TO EDGE liked VALUES($1, $2, $3) USING SEPARATOR=\",\", HEADER=\"true\", EOL=\"\\\\n\";\n",
        "  }\n",
        "  END\n",
        "  ''')\n",
        "print(results)"
      ],
      "execution_count": null,
      "outputs": [
        {
          "output_type": "stream",
          "name": "stdout",
          "text": [
            "Using graph 'MyGraph'\n",
            "The job load_likes is created.\n"
          ]
        }
      ]
    },
    {
      "cell_type": "markdown",
      "metadata": {
        "id": "J1YnB6Wa7RSP"
      },
      "source": [
        "### Messages"
      ]
    },
    {
      "cell_type": "code",
      "metadata": {
        "colab": {
          "base_uri": "https://localhost:8080/"
        },
        "id": "YvKh_8p4gfGC",
        "outputId": "b9605f03-2d2a-421d-c344-4aa38d672f6a"
      },
      "source": [
        "!head -n 2 /content/TigerGraph-101/messages.csv"
      ],
      "execution_count": null,
      "outputs": [
        {
          "name": "stdout",
          "output_type": "stream",
          "text": [
            "id,body,subject,by_user,to_user,send_date,read_date\n",
            "1,\"Integer pede justo, lacinia eget, tincidunt eget, tempus vel, pede. Morbi porttitor lorem id ligula. Suspendisse ornare consequat lectus. In est risus, auctor sed, tristique in, tempus sit amet, sem. Fusce consequat. Nulla nisl.\",Nulla facilisi.,22,62,2019-05-01 03:40:51,2019-06-10 03:40:51\n"
          ]
        }
      ]
    },
    {
      "cell_type": "code",
      "metadata": {
        "colab": {
          "base_uri": "https://localhost:8080/"
        },
        "id": "Zerob6pDgmq2",
        "outputId": "6424137f-f2c3-4bb9-c677-922039467b51"
      },
      "source": [
        "results = conn.gsql('''\n",
        "  USE GRAPH MyGraph\n",
        "  BEGIN\n",
        "  CREATE LOADING JOB load_messages FOR GRAPH MyGraph {\n",
        "  DEFINE FILENAME MyDataSource;\n",
        "  LOAD MyDataSource TO VERTEX Message VALUES($0, $2, $1) USING SEPARATOR=\",\", HEADER=\"true\", EOL=\"\\\\n\", QUOTE=\"double\";\n",
        "  LOAD MyDataSource TO EDGE sent_message VALUES($3, $0, $4, $5) USING SEPARATOR=\",\", HEADER=\"true\", EOL=\"\\\\n\", QUOTE=\"double\";\n",
        "  LOAD MyDataSource TO EDGE received_message VALUES($0, $4, $3, $5, $6) USING SEPARATOR=\",\", HEADER=\"true\", EOL=\"\\\\n\", QUOTE=\"double\";\n",
        "  }\n",
        "  END''')\n",
        "print(results)"
      ],
      "execution_count": null,
      "outputs": [
        {
          "output_type": "stream",
          "name": "stdout",
          "text": [
            "Using graph 'MyGraph'\n",
            "The job load_messages is created.\n"
          ]
        }
      ]
    },
    {
      "cell_type": "markdown",
      "metadata": {
        "id": "e4ccCXKd7TSG"
      },
      "source": [
        "### Users"
      ]
    },
    {
      "cell_type": "code",
      "metadata": {
        "colab": {
          "base_uri": "https://localhost:8080/"
        },
        "id": "MYGn5P2BiLro",
        "outputId": "0d650e19-e288-4b28-d5db-7b548cb23c64"
      },
      "source": [
        "!head -n 2 /content/TigerGraph-101/users.csv"
      ],
      "execution_count": null,
      "outputs": [
        {
          "name": "stdout",
          "output_type": "stream",
          "text": [
            "id,email,username,name,join_date\n",
            "1,mgeistmann0@accuweather.com,mgeistmann0,Marvin Geistmann,2018-09-30 07:31:34\n"
          ]
        }
      ]
    },
    {
      "cell_type": "code",
      "metadata": {
        "colab": {
          "base_uri": "https://localhost:8080/"
        },
        "id": "XVO9H5OkiWwj",
        "outputId": "f17c7a9a-c652-4189-8fb3-c7300b581ebf"
      },
      "source": [
        "results = conn.gsql('''\n",
        "  USE GRAPH MyGraph\n",
        "  BEGIN\n",
        "  CREATE LOADING JOB load_people FOR GRAPH MyGraph {\n",
        "  DEFINE FILENAME MyDataSource;\n",
        "  LOAD MyDataSource TO VERTEX Person VALUES($0, $3, $1, $2, $4) USING SEPARATOR=\",\", HEADER=\"true\", EOL=\"\\\\n\";\n",
        "  }\n",
        "  END\n",
        "  ''')\n",
        "print(results)"
      ],
      "execution_count": null,
      "outputs": [
        {
          "output_type": "stream",
          "name": "stdout",
          "text": [
            "Using graph 'MyGraph'\n",
            "The job load_people is created.\n"
          ]
        }
      ]
    },
    {
      "cell_type": "code",
      "metadata": {
        "id": "59b2NhAzwuFi",
        "colab": {
          "base_uri": "https://localhost:8080/"
        },
        "outputId": "a52e75c0-a922-4435-da49-8254fa7efdfe"
      },
      "source": [
        "results = conn.gsql('''\n",
        "USE GRAPH MyGraph\n",
        "SHOW JOBS\n",
        "''')\n",
        "pprint(results)"
      ],
      "execution_count": null,
      "outputs": [
        {
          "output_type": "stream",
          "name": "stdout",
          "text": [
            "\"Encountered \\\" <IDENTIFIER> \\\"JOBS \\\"\\\" at line 3, column 6.\\nWas expecting one of:\\n\\\"DATA_SOURCE\\\" ...\\n\\\"edge\\\" ...\\n\\\"graph\\\" ...\\n\\\"group\\\" ...\\n\\\"job\\\" ...\\n\\\"loading\\\" ...\\n\\\"query\\\" ...\\n\\\"secret\\\" ...\\n\\\"tag\\\" ...\\n\\\"user\\\" ...\\n\\\"vertex\\\" ...\\n\"\n"
          ]
        }
      ]
    },
    {
      "cell_type": "markdown",
      "metadata": {
        "id": "Nm8hvEJo7YqM"
      },
      "source": [
        "## Load Data"
      ]
    },
    {
      "cell_type": "code",
      "metadata": {
        "id": "450w8nYGllZQ",
        "colab": {
          "base_uri": "https://localhost:8080/"
        },
        "outputId": "205ddc71-daf2-4299-d649-4f0b1d1a0891"
      },
      "source": [
        "# Load the posts file wiht the 'load_posts' job\n",
        "posts_file = '/content/TigerGraph-101/posts.csv'\n",
        "results = conn.uploadFile(posts_file, fileTag='MyDataSource', jobName='load_posts')\n",
        "print(json.dumps(results, indent=2))"
      ],
      "execution_count": null,
      "outputs": [
        {
          "output_type": "stream",
          "name": "stdout",
          "text": [
            "[\n",
            "  {\n",
            "    \"sourceFileName\": \"Online_POST\",\n",
            "    \"statistics\": {\n",
            "      \"validLine\": 1001,\n",
            "      \"rejectLine\": 0,\n",
            "      \"failedConditionLine\": 0,\n",
            "      \"notEnoughToken\": 0,\n",
            "      \"invalidJson\": 0,\n",
            "      \"oversizeToken\": 0,\n",
            "      \"vertex\": [\n",
            "        {\n",
            "          \"typeName\": \"Post\",\n",
            "          \"validObject\": 1000,\n",
            "          \"noIdFound\": 0,\n",
            "          \"invalidAttribute\": 1,\n",
            "          \"invalidAttributeLines\": [\n",
            "            \"1:posted_date\"\n",
            "          ],\n",
            "          \"invalidAttributeLinesData\": [\n",
            "            \"id,content,posted_date,by_user,deleted,hashtag_1,hashtag_2,hashtag_3,hashtag_4\\n\"\n",
            "          ],\n",
            "          \"invalidVertexType\": 0,\n",
            "          \"invalidPrimaryId\": 0,\n",
            "          \"invalidSecondaryId\": 0,\n",
            "          \"incorrectFixedBinaryLength\": 0\n",
            "        },\n",
            "        {\n",
            "          \"typeName\": \"Hashtag\",\n",
            "          \"validObject\": 1001,\n",
            "          \"noIdFound\": 0,\n",
            "          \"invalidAttribute\": 0,\n",
            "          \"invalidVertexType\": 0,\n",
            "          \"invalidPrimaryId\": 0,\n",
            "          \"invalidSecondaryId\": 0,\n",
            "          \"incorrectFixedBinaryLength\": 0\n",
            "        },\n",
            "        {\n",
            "          \"typeName\": \"Hashtag\",\n",
            "          \"validObject\": 797,\n",
            "          \"noIdFound\": 204,\n",
            "          \"invalidAttribute\": 0,\n",
            "          \"invalidVertexType\": 0,\n",
            "          \"invalidPrimaryId\": 0,\n",
            "          \"invalidSecondaryId\": 0,\n",
            "          \"incorrectFixedBinaryLength\": 0\n",
            "        },\n",
            "        {\n",
            "          \"typeName\": \"Hashtag\",\n",
            "          \"validObject\": 494,\n",
            "          \"noIdFound\": 507,\n",
            "          \"invalidAttribute\": 0,\n",
            "          \"invalidVertexType\": 0,\n",
            "          \"invalidPrimaryId\": 0,\n",
            "          \"invalidSecondaryId\": 0,\n",
            "          \"incorrectFixedBinaryLength\": 0\n",
            "        },\n",
            "        {\n",
            "          \"typeName\": \"Hashtag\",\n",
            "          \"validObject\": 282,\n",
            "          \"noIdFound\": 719,\n",
            "          \"invalidAttribute\": 0,\n",
            "          \"invalidVertexType\": 0,\n",
            "          \"invalidPrimaryId\": 0,\n",
            "          \"invalidSecondaryId\": 0,\n",
            "          \"incorrectFixedBinaryLength\": 0\n",
            "        }\n",
            "      ],\n",
            "      \"edge\": [\n",
            "        {\n",
            "          \"typeName\": \"posted\",\n",
            "          \"validObject\": 1000,\n",
            "          \"noIdFound\": 0,\n",
            "          \"invalidAttribute\": 1,\n",
            "          \"invalidAttributeLines\": [\n",
            "            \"1:post_date\"\n",
            "          ],\n",
            "          \"invalidAttributeLinesData\": [\n",
            "            \"id,content,posted_date,by_user,deleted,hashtag_1,hashtag_2,hashtag_3,hashtag_4\\n\"\n",
            "          ],\n",
            "          \"invalidVertexType\": 0,\n",
            "          \"invalidPrimaryId\": 0,\n",
            "          \"invalidSecondaryId\": 0,\n",
            "          \"incorrectFixedBinaryLength\": 0\n",
            "        },\n",
            "        {\n",
            "          \"typeName\": \"has_tag\",\n",
            "          \"validObject\": 1001,\n",
            "          \"noIdFound\": 0,\n",
            "          \"invalidAttribute\": 0,\n",
            "          \"invalidVertexType\": 0,\n",
            "          \"invalidPrimaryId\": 0,\n",
            "          \"invalidSecondaryId\": 0,\n",
            "          \"incorrectFixedBinaryLength\": 0\n",
            "        },\n",
            "        {\n",
            "          \"typeName\": \"has_tag\",\n",
            "          \"validObject\": 797,\n",
            "          \"noIdFound\": 204,\n",
            "          \"invalidAttribute\": 0,\n",
            "          \"invalidVertexType\": 0,\n",
            "          \"invalidPrimaryId\": 0,\n",
            "          \"invalidSecondaryId\": 0,\n",
            "          \"incorrectFixedBinaryLength\": 0\n",
            "        },\n",
            "        {\n",
            "          \"typeName\": \"has_tag\",\n",
            "          \"validObject\": 494,\n",
            "          \"noIdFound\": 507,\n",
            "          \"invalidAttribute\": 0,\n",
            "          \"invalidVertexType\": 0,\n",
            "          \"invalidPrimaryId\": 0,\n",
            "          \"invalidSecondaryId\": 0,\n",
            "          \"incorrectFixedBinaryLength\": 0\n",
            "        },\n",
            "        {\n",
            "          \"typeName\": \"has_tag\",\n",
            "          \"validObject\": 282,\n",
            "          \"noIdFound\": 719,\n",
            "          \"invalidAttribute\": 0,\n",
            "          \"invalidVertexType\": 0,\n",
            "          \"invalidPrimaryId\": 0,\n",
            "          \"invalidSecondaryId\": 0,\n",
            "          \"incorrectFixedBinaryLength\": 0\n",
            "        }\n",
            "      ],\n",
            "      \"deleteVertex\": [],\n",
            "      \"deleteEdge\": []\n",
            "    }\n",
            "  }\n",
            "]\n"
          ]
        }
      ]
    },
    {
      "cell_type": "code",
      "metadata": {
        "id": "GQ45NPXTlk7d",
        "colab": {
          "base_uri": "https://localhost:8080/"
        },
        "outputId": "b9b408f3-5810-4f6b-d942-445dc78a11dd"
      },
      "source": [
        "# Load the likes file wiht the 'load_likes' job\n",
        "likes_file = '/content/TigerGraph-101/likes.csv'\n",
        "results = conn.uploadFile(likes_file, fileTag='MyDataSource', jobName='load_likes')\n",
        "print(json.dumps(results, indent=2))"
      ],
      "execution_count": null,
      "outputs": [
        {
          "output_type": "stream",
          "name": "stdout",
          "text": [
            "[\n",
            "  {\n",
            "    \"sourceFileName\": \"Online_POST\",\n",
            "    \"statistics\": {\n",
            "      \"validLine\": 5001,\n",
            "      \"rejectLine\": 0,\n",
            "      \"failedConditionLine\": 0,\n",
            "      \"notEnoughToken\": 0,\n",
            "      \"invalidJson\": 0,\n",
            "      \"oversizeToken\": 0,\n",
            "      \"vertex\": [],\n",
            "      \"edge\": [\n",
            "        {\n",
            "          \"typeName\": \"liked\",\n",
            "          \"validObject\": 5000,\n",
            "          \"noIdFound\": 0,\n",
            "          \"invalidAttribute\": 1,\n",
            "          \"invalidAttributeLines\": [\n",
            "            \"1:like_date\"\n",
            "          ],\n",
            "          \"invalidAttributeLinesData\": [\n",
            "            \"id,by_user,liked_post,liked_date\\n\"\n",
            "          ],\n",
            "          \"invalidVertexType\": 0,\n",
            "          \"invalidPrimaryId\": 0,\n",
            "          \"invalidSecondaryId\": 0,\n",
            "          \"incorrectFixedBinaryLength\": 0\n",
            "        }\n",
            "      ],\n",
            "      \"deleteVertex\": [],\n",
            "      \"deleteEdge\": []\n",
            "    }\n",
            "  }\n",
            "]\n"
          ]
        }
      ]
    },
    {
      "cell_type": "code",
      "metadata": {
        "id": "6rxfhiE-lkDQ",
        "colab": {
          "base_uri": "https://localhost:8080/"
        },
        "outputId": "7123fed9-fe57-4db4-dedf-537bbb01d72f"
      },
      "source": [
        "# Load the messages file wiht the 'load_messages' job\n",
        "messages_file = '/content/TigerGraph-101/messages.csv'\n",
        "results = conn.uploadFile(messages_file, fileTag='MyDataSource', jobName='load_messages')\n",
        "print(json.dumps(results, indent=2))"
      ],
      "execution_count": null,
      "outputs": [
        {
          "output_type": "stream",
          "name": "stdout",
          "text": [
            "[\n",
            "  {\n",
            "    \"sourceFileName\": \"Online_POST\",\n",
            "    \"statistics\": {\n",
            "      \"validLine\": 1001,\n",
            "      \"rejectLine\": 0,\n",
            "      \"failedConditionLine\": 0,\n",
            "      \"notEnoughToken\": 0,\n",
            "      \"invalidJson\": 0,\n",
            "      \"oversizeToken\": 0,\n",
            "      \"vertex\": [\n",
            "        {\n",
            "          \"typeName\": \"Message\",\n",
            "          \"validObject\": 1001,\n",
            "          \"noIdFound\": 0,\n",
            "          \"invalidAttribute\": 0,\n",
            "          \"invalidVertexType\": 0,\n",
            "          \"invalidPrimaryId\": 0,\n",
            "          \"invalidSecondaryId\": 0,\n",
            "          \"incorrectFixedBinaryLength\": 0\n",
            "        }\n",
            "      ],\n",
            "      \"edge\": [\n",
            "        {\n",
            "          \"typeName\": \"sent_message\",\n",
            "          \"validObject\": 1000,\n",
            "          \"noIdFound\": 0,\n",
            "          \"invalidAttribute\": 1,\n",
            "          \"invalidAttributeLines\": [\n",
            "            \"1:sent_date\"\n",
            "          ],\n",
            "          \"invalidAttributeLinesData\": [\n",
            "            \"id,body,subject,by_user,to_user,send_date,read_date\\n\"\n",
            "          ],\n",
            "          \"invalidVertexType\": 0,\n",
            "          \"invalidPrimaryId\": 0,\n",
            "          \"invalidSecondaryId\": 0,\n",
            "          \"incorrectFixedBinaryLength\": 0\n",
            "        },\n",
            "        {\n",
            "          \"typeName\": \"received_message\",\n",
            "          \"validObject\": 1000,\n",
            "          \"noIdFound\": 0,\n",
            "          \"invalidAttribute\": 1,\n",
            "          \"invalidAttributeLines\": [\n",
            "            \"1:receive_date\"\n",
            "          ],\n",
            "          \"invalidAttributeLinesData\": [\n",
            "            \"id,body,subject,by_user,to_user,send_date,read_date\\n\"\n",
            "          ],\n",
            "          \"invalidVertexType\": 0,\n",
            "          \"invalidPrimaryId\": 0,\n",
            "          \"invalidSecondaryId\": 0,\n",
            "          \"incorrectFixedBinaryLength\": 0\n",
            "        }\n",
            "      ],\n",
            "      \"deleteVertex\": [],\n",
            "      \"deleteEdge\": []\n",
            "    }\n",
            "  }\n",
            "]\n"
          ]
        }
      ]
    },
    {
      "cell_type": "code",
      "metadata": {
        "id": "b4G_4vpdlDt8",
        "colab": {
          "base_uri": "https://localhost:8080/"
        },
        "outputId": "23ac36ff-5eb5-40ad-ddd6-d2269944fa01"
      },
      "source": [
        "# Load the people file wiht the 'load_people' job\n",
        "people_file = '/content/TigerGraph-101/users.csv'\n",
        "results = conn.uploadFile(people_file, fileTag='MyDataSource', jobName='load_people')\n",
        "print(json.dumps(results, indent=2))"
      ],
      "execution_count": null,
      "outputs": [
        {
          "output_type": "stream",
          "name": "stdout",
          "text": [
            "[\n",
            "  {\n",
            "    \"sourceFileName\": \"Online_POST\",\n",
            "    \"statistics\": {\n",
            "      \"validLine\": 101,\n",
            "      \"rejectLine\": 0,\n",
            "      \"failedConditionLine\": 0,\n",
            "      \"notEnoughToken\": 0,\n",
            "      \"invalidJson\": 0,\n",
            "      \"oversizeToken\": 0,\n",
            "      \"vertex\": [\n",
            "        {\n",
            "          \"typeName\": \"Person\",\n",
            "          \"validObject\": 100,\n",
            "          \"noIdFound\": 0,\n",
            "          \"invalidAttribute\": 1,\n",
            "          \"invalidAttributeLines\": [\n",
            "            \"1:created_at\"\n",
            "          ],\n",
            "          \"invalidAttributeLinesData\": [\n",
            "            \"id,email,username,name,join_date\\n\"\n",
            "          ],\n",
            "          \"invalidVertexType\": 0,\n",
            "          \"invalidPrimaryId\": 0,\n",
            "          \"invalidSecondaryId\": 0,\n",
            "          \"incorrectFixedBinaryLength\": 0\n",
            "        }\n",
            "      ],\n",
            "      \"edge\": [],\n",
            "      \"deleteVertex\": [],\n",
            "      \"deleteEdge\": []\n",
            "    }\n",
            "  }\n",
            "]\n"
          ]
        }
      ]
    },
    {
      "cell_type": "markdown",
      "metadata": {
        "id": "gAFCKYK61nzx"
      },
      "source": [
        "## Exploring the Graph"
      ]
    },
    {
      "cell_type": "markdown",
      "metadata": {
        "id": "4rJ_Vedw7oms"
      },
      "source": [
        "### Get Vertex and Edge Schema"
      ]
    },
    {
      "cell_type": "code",
      "metadata": {
        "colab": {
          "base_uri": "https://localhost:8080/"
        },
        "id": "g9F25xMY1p0p",
        "outputId": "4756602a-9882-4f0f-b7ce-b401a38dc820"
      },
      "source": [
        "results = conn.getVertexTypes()\n",
        "print(f\"Verticies: {results}\")\n",
        "vertices = results\n",
        "\n",
        "results = conn.getEdgeTypes()\n",
        "print(f\"Edges: {results}\")\n",
        "edges = results"
      ],
      "execution_count": null,
      "outputs": [
        {
          "name": "stdout",
          "output_type": "stream",
          "text": [
            "Verticies: ['Person', 'Post', 'Hashtag', 'Message']\n",
            "Edges: ['posted', 'liked', 'has_tag', 'sent_message', 'received_message']\n"
          ]
        }
      ]
    },
    {
      "cell_type": "code",
      "metadata": {
        "id": "RrWUEQ7p2TOK"
      },
      "source": [
        "\n",
        "print(f\"Results for Post vertex\")\n",
        "pprint(conn.getVertexType(\"Message\"))\n",
        "\n",
        "print(\"-----------------\")\n",
        "print(f\"Results for liked edge\")\n",
        "pprint(conn.getEdgeType(\"liked\"))\n"
      ],
      "execution_count": null,
      "outputs": []
    },
    {
      "cell_type": "markdown",
      "metadata": {
        "id": "jWUaoSAa5ir6"
      },
      "source": [
        "## Counting Data"
      ]
    },
    {
      "cell_type": "code",
      "metadata": {
        "colab": {
          "base_uri": "https://localhost:8080/"
        },
        "id": "rkFt8Y9I3kYp",
        "outputId": "4df5c092-485e-4882-c825-0bf959d991ef"
      },
      "source": [
        "print(\"Vertex Counts\")\n",
        "for vertex in vertices:\n",
        "  print(f\"There are {conn.getVertexCount(vertex)} {vertex} vertices in the graph\")\n",
        "\n",
        "print(\"--------------\")\n",
        "print(\"Edge Counts\")\n",
        "for edge in edges:\n",
        "  print(f\"There are {conn.getEdgeCount(edge)} {edge} edges in the graph\")"
      ],
      "execution_count": null,
      "outputs": [
        {
          "name": "stdout",
          "output_type": "stream",
          "text": [
            "Vertex Counts\n",
            "There are 100 Person vertices in the graph\n",
            "There are 1001 Post vertices in the graph\n",
            "There are 308 Hashtag vertices in the graph\n",
            "There are 1001 Message vertices in the graph\n",
            "--------------\n",
            "Edge Counts\n",
            "There are 1000 posted edges in the graph\n",
            "There are 4869 liked edges in the graph\n",
            "There are 2567 has_tag edges in the graph\n",
            "There are 1000 sent_message edges in the graph\n",
            "There are 1000 received_message edges in the graph\n"
          ]
        }
      ]
    },
    {
      "cell_type": "markdown",
      "metadata": {
        "id": "TnUz48uPCxQk"
      },
      "source": [
        "## Extracting Data"
      ]
    },
    {
      "cell_type": "markdown",
      "metadata": {
        "id": "MYVeVJvwHZlP"
      },
      "source": [
        "### Vertex/Edge Set Format"
      ]
    },
    {
      "cell_type": "markdown",
      "metadata": {
        "id": "eX3x8Ao9ENDm"
      },
      "source": [
        "#### Getting a Vertex"
      ]
    },
    {
      "cell_type": "code",
      "metadata": {
        "id": "QKIHiOeSC2IO"
      },
      "source": [
        "results = conn.getVerticesById(\"Person\", \"30\")\n",
        "pprint(results)"
      ],
      "execution_count": null,
      "outputs": []
    },
    {
      "cell_type": "markdown",
      "metadata": {
        "id": "wvRr72nfERqZ"
      },
      "source": [
        "#### Or Multiple Vertices"
      ]
    },
    {
      "cell_type": "code",
      "metadata": {
        "id": "dCDiIakzEULm"
      },
      "source": [
        "tdf1 = conn.getVerticesById(\"Post\", [\"200\",\"400\"])\n",
        "pprint(tdf1)"
      ],
      "execution_count": null,
      "outputs": []
    },
    {
      "cell_type": "markdown",
      "metadata": {
        "id": "vqJASpgJEg6-"
      },
      "source": [
        "#### Count Edges Connected to a Vertex"
      ]
    },
    {
      "cell_type": "code",
      "metadata": {
        "id": "t-wNtrkfEj3y"
      },
      "source": [
        "results = conn.getEdgeCountFrom(\"Person\", \"38\")\n",
        "pprint(results)"
      ],
      "execution_count": null,
      "outputs": []
    },
    {
      "cell_type": "markdown",
      "metadata": {
        "id": "4g2KqQmpE1KJ"
      },
      "source": [
        "#### Show all Edges Connected to a Vertex"
      ]
    },
    {
      "cell_type": "code",
      "metadata": {
        "id": "OWVCDSvCE598"
      },
      "source": [
        "results = conn.getEdges(\"Post\", \"345\")\n",
        "pprint(results)"
      ],
      "execution_count": null,
      "outputs": []
    },
    {
      "cell_type": "markdown",
      "metadata": {
        "id": "ckFBOkiOCzyk"
      },
      "source": [
        "### As Pandas Dataframe\n",
        "Supports all of the above in native Pandas Dataframe format."
      ]
    },
    {
      "cell_type": "markdown",
      "metadata": {
        "id": "MqGq0jozFayA"
      },
      "source": [
        "#### All Vertices of one Type"
      ]
    },
    {
      "cell_type": "code",
      "metadata": {
        "id": "tfUKpWbaFM3u"
      },
      "source": [
        "df1 = conn.getVertexDataframe(\"Hashtag\")\n",
        "print(df1)"
      ],
      "execution_count": null,
      "outputs": []
    },
    {
      "cell_type": "markdown",
      "metadata": {
        "id": "Cs5chjJBFgw8"
      },
      "source": [
        "#### One or More Vertex"
      ]
    },
    {
      "cell_type": "code",
      "metadata": {
        "id": "ZqZZ8r0EFiMg"
      },
      "source": [
        "df2 = conn.getVertexDataframeById(\"Post\", [\"45\"])\n",
        "print(df2)"
      ],
      "execution_count": null,
      "outputs": []
    },
    {
      "cell_type": "markdown",
      "metadata": {
        "id": "P5KKOIxcF7Co"
      },
      "source": [
        "#### Convert Vertex/Edge Set to Dataframe\n",
        "We'll use the results from the 'Or Multiple Vertices' cell. "
      ]
    },
    {
      "cell_type": "code",
      "metadata": {
        "id": "5toKOF-1GIjH"
      },
      "source": [
        "df3 = conn.vertexSetToDataFrame(tdf1)\n",
        "print(df3)"
      ],
      "execution_count": null,
      "outputs": []
    },
    {
      "cell_type": "markdown",
      "metadata": {
        "id": "zswIzwgKHnCr"
      },
      "source": [
        "#### Get Edges"
      ]
    },
    {
      "cell_type": "code",
      "metadata": {
        "id": "jnPTicB4HwpH"
      },
      "source": [
        "df4 = conn.getEdgesDataframe(\"Post\", \"344\", limit=3)\n",
        "print(df4)"
      ],
      "execution_count": null,
      "outputs": []
    },
    {
      "cell_type": "markdown",
      "metadata": {
        "id": "AijIsGUr5fDq"
      },
      "source": [
        "## Path Finding\n",
        "Find paths between vertices.\n",
        "\n",
        "Supported are:\n",
        "- shortestPath - one shortest path between vertices\n",
        "- allPaths - all paths within the specified edge limit"
      ]
    },
    {
      "cell_type": "code",
      "metadata": {
        "id": "MxIMRX1x5UPQ"
      },
      "source": [
        "results = conn.shortestPath([(\"Person\", \"50\")], [(\"Person\", \"45\")])\n",
        "pprint(results)"
      ],
      "execution_count": null,
      "outputs": []
    },
    {
      "cell_type": "markdown",
      "metadata": {
        "id": "GHEELAkc71YG"
      },
      "source": [
        "## Queries"
      ]
    },
    {
      "cell_type": "markdown",
      "metadata": {
        "id": "yLGmhxJqHzIC"
      },
      "source": [
        "### All Hashtags from all Posts from Input User"
      ]
    },
    {
      "cell_type": "code",
      "metadata": {
        "colab": {
          "base_uri": "https://localhost:8080/"
        },
        "id": "OhQVIRL8uEsH",
        "outputId": "b0e91199-fdcd-451e-baac-326420d00a6d"
      },
      "source": [
        "results = conn.gsql('''\n",
        "  USE GRAPH MyGraph\n",
        "  CREATE QUERY hashtags_from_person(VERTEX<Person> inPer) FOR GRAPH MyGraph SYNTAX v2 { \n",
        "  \n",
        "  person = {inPer};\n",
        "\n",
        "  tag = SELECT t FROM person:pe - (posted>) - Post:p - (has_tag>) - Hashtag:t;\n",
        "\n",
        "  // Below line does the same thing and looks cleaner, intermediate nodes can be ignored if not being referenced\n",
        "  // tag = SELECT t FROM person:pe - (posted>.has_tag>) - Hashtag:t;\n",
        "\n",
        "  PRINT tag;\n",
        "  }\n",
        "  ''')\n",
        "pprint(results)"
      ],
      "execution_count": null,
      "outputs": [
        {
          "output_type": "stream",
          "name": "stdout",
          "text": [
            "\"Using graph 'MyGraph'\\nThe query hashtags_from_person has been added!\"\n"
          ]
        }
      ]
    },
    {
      "cell_type": "markdown",
      "metadata": {
        "id": "z16UsQUYzYkn"
      },
      "source": [
        "### Posts that Users who Liked the Source Post Also Liked"
      ]
    },
    {
      "cell_type": "code",
      "metadata": {
        "colab": {
          "base_uri": "https://localhost:8080/"
        },
        "id": "Wb5LzMVyzN5D",
        "outputId": "8cdba032-8007-4984-9770-d8adee981e14"
      },
      "source": [
        "results = conn.gsql('''\n",
        "  USE GRAPH MyGraph\n",
        "  CREATE QUERY most_common_mutual_liked_post(VERTEX<Post> inPost, INT maxReturn) FOR GRAPH MyGraph SYNTAX v2 {\n",
        "  TYPEDEF tuple<STRING post, INT likes> frequency;\n",
        "  \n",
        "  // Find the posts most liked by the group of people who liked the input post\n",
        "  HeapAccum<frequency>(maxReturn, likes DESC) @@topTestResults;\n",
        "  SumAccum<INT> @likes;\n",
        "  \n",
        "  post = {inPost};\n",
        "  \n",
        "  ml = SELECT op FROM post - (<liked) - Person - (liked>) - Post:op\n",
        "  ACCUM\n",
        "    op.@likes += 1\n",
        "  POST-ACCUM\n",
        "    @@topTestResults += frequency(op.id, op.@likes);\n",
        "  \n",
        "  PRINT @@topTestResults;\n",
        "}\n",
        "  ''')\n",
        "pprint(results)"
      ],
      "execution_count": null,
      "outputs": [
        {
          "output_type": "stream",
          "name": "stdout",
          "text": [
            "\"Using graph 'MyGraph'\\nThe query most_common_mutual_liked_post has been added!\"\n"
          ]
        }
      ]
    },
    {
      "cell_type": "markdown",
      "metadata": {
        "id": "QP5kArQPKKKN"
      },
      "source": [
        "### Similarity Algo\n",
        "\n",
        "Jaccard similarity-esque algorithm that will be referenced as a sub-query."
      ]
    },
    {
      "cell_type": "code",
      "metadata": {
        "colab": {
          "base_uri": "https://localhost:8080/"
        },
        "id": "lhGT8gmKJKEN",
        "outputId": "c128d830-3ffa-49ba-e714-062221055fda"
      },
      "source": [
        "results = conn.gsql('''\n",
        "  USE GRAPH MyGraph\n",
        "  CREATE QUERY similarity(Set<STRING> A, Set<STRING> B) FOR GRAPH MyGraph RETURNS (FLOAT){ \n",
        "\tSetAccum<STRING> @@inter, @@uni;\n",
        "\tFLOAT similarity;\n",
        "\t\n",
        "\tIF A.size() != 0 AND B.size() !=0 THEN\n",
        "\t  @@inter = A INTERSECT B;\n",
        "\t  @@uni = A UNION B;\n",
        "\t\n",
        "\t  IF @@inter.size() == 0 THEN\n",
        "\t    similarity = 0;\n",
        "\t  ELSE \n",
        "\t    similarity = @@inter.size()*1.0/@@uni.size();\n",
        "\t    END;\n",
        "\tELSE\n",
        "\t  similarity = 0;\n",
        "\t  END;\n",
        "\t\n",
        "\tPRINT similarity;\n",
        "\tRETURN similarity;\n",
        "}\n",
        "  ''')\n",
        "pprint(results)"
      ],
      "execution_count": null,
      "outputs": [
        {
          "output_type": "stream",
          "name": "stdout",
          "text": [
            "\"Using graph 'MyGraph'\\nThe query similarity has been added!\"\n"
          ]
        }
      ]
    },
    {
      "cell_type": "markdown",
      "metadata": {
        "id": "C1wU47_KKOGZ"
      },
      "source": [
        "### Find Users Who Like Similar Hashtags to what Input User Posts"
      ]
    },
    {
      "cell_type": "code",
      "metadata": {
        "colab": {
          "base_uri": "https://localhost:8080/"
        },
        "id": "Ic2QnIzdJuKD",
        "outputId": "94595bfb-9875-41e6-a9cd-520e93521fbb"
      },
      "source": [
        "results = conn.gsql('''\n",
        "  USE GRAPH MyGraph\n",
        "  CREATE QUERY people_with_similar_tags(VERTEX<Person> inPer, INT maxReturn) FOR GRAPH MyGraph SYNTAX v2{ \n",
        "  TYPEDEF tuple<STRING person, FLOAT tag> simTags;\n",
        "  \n",
        "  HeapAccum<simTags>(maxReturn, tag DESC) @@topTagResults;\n",
        "  SetAccum<STRING> @tags;\n",
        "  SetAccum<STRING> @@inTags;\n",
        "  person = {inPer};\n",
        "  people = {Person.*};\n",
        "  \n",
        "  // Get the hashtags of our input person's posts\n",
        "  ourTags = SELECT t FROM person - (posted>.has_tag>) - Hashtag:t\n",
        "  ACCUM\n",
        "    @@inTags += t.tag;\n",
        "  \n",
        "  // Get the hashtags of all posts all people have liked\n",
        "  simPeople = SELECT p FROM people:p - (liked>.has_tag>) - Hashtag:t\n",
        "  ACCUM\n",
        "    p.@tags += t.tag\n",
        "  POST-ACCUM\n",
        "  // Compare the group of hashtags from our input person to that of the person we're currently checking\n",
        "    @@topTagResults += simTags(p.id,similarity(@@inTags,p.@tags));\n",
        "  \n",
        "  PRINT @@topTagResults;\n",
        "  }\n",
        "  ''')\n",
        "pprint(results)"
      ],
      "execution_count": null,
      "outputs": [
        {
          "output_type": "stream",
          "name": "stdout",
          "text": [
            "\"Using graph 'MyGraph'\\nThe query people_with_similar_tags has been added!\"\n"
          ]
        }
      ]
    },
    {
      "cell_type": "markdown",
      "metadata": {
        "id": "SJJWItcnHoeJ"
      },
      "source": [
        "## Installing Queries\n",
        "\n",
        "Installing the queries will take about 6 minutes total."
      ]
    },
    {
      "cell_type": "code",
      "metadata": {
        "id": "ZYV6DScUDxDi",
        "colab": {
          "base_uri": "https://localhost:8080/",
          "height": 52
        },
        "outputId": "d8181561-dff1-4295-f192-afa1443761a8"
      },
      "source": [
        "conn.gsql('''\n",
        "  USE GRAPH MyGraph\n",
        "  INSTALL QUERY hashtags_from_person\n",
        "  INSTALL QUERY most_common_mutual_liked_post\n",
        "  INSTALL QUERY similarity\n",
        "  INSTALL QUERY people_with_similar_tags\n",
        "''')"
      ],
      "execution_count": null,
      "outputs": [
        {
          "output_type": "execute_result",
          "data": {
            "application/vnd.google.colaboratory.intrinsic+json": {
              "type": "string"
            },
            "text/plain": [
              "'Using graph \\'MyGraph\\'\\nStart installing queries, about 1 minute ...\\nsimilarity query: curl -X GET \\'https://127.0.0.1:9000/query/MyGraph/similarity?A=VALUE&B=VALUE\\'. Add -H \"Authorization: Bearer TOKEN\" if authentication is enabled.\\n'"
            ]
          },
          "metadata": {},
          "execution_count": 25
        }
      ]
    },
    {
      "cell_type": "markdown",
      "metadata": {
        "id": "c8zrD8nzN-As"
      },
      "source": [
        "## Run Queries"
      ]
    },
    {
      "cell_type": "markdown",
      "metadata": {
        "id": "7wa1r7-aOxfB"
      },
      "source": [
        "### Hashtags a Person has Posted\n",
        "\n",
        "Returned as a Vertex Set, note that the additional vertex information is returned as well as the name."
      ]
    },
    {
      "cell_type": "code",
      "metadata": {
        "id": "GwyCOJisN86t"
      },
      "source": [
        "results = conn.runInstalledQuery(\"hashtags_from_person\", params={\"inPer\": \"50\"})\n",
        "pprint(results)"
      ],
      "execution_count": null,
      "outputs": []
    },
    {
      "cell_type": "markdown",
      "metadata": {
        "id": "uqZfowPWPArK"
      },
      "source": [
        "### Posts Most Liked by the People who Liked the Input Post\n",
        "\n",
        "- `inPost` is the input post, currently set to post id `500`. Feel free to change that and see how other posts relate.\n",
        "- `maxReturn` is the max number of like posts to return. Currently set to `10`"
      ]
    },
    {
      "cell_type": "code",
      "metadata": {
        "id": "UEE2gxA4OM5p"
      },
      "source": [
        "results = conn.runInstalledQuery(\"most_common_mutual_liked_post\", params={\"inPost\": \"500\",\"maxReturn\": \"10\"})\n",
        "pprint(results)"
      ],
      "execution_count": null,
      "outputs": []
    },
    {
      "cell_type": "markdown",
      "metadata": {
        "id": "E_Qf4_N-Pqla"
      },
      "source": [
        "### People who Like Posts with Similar Hashtags to what Input User Posts\n",
        "\n",
        "- `inPer` is the input person who you are finding similar people to.\n",
        "- `maxReturn` is the max number of similar people to return."
      ]
    },
    {
      "cell_type": "code",
      "metadata": {
        "id": "kO6MEEqjOfOg"
      },
      "source": [
        "results = conn.runInstalledQuery(\"people_with_similar_tags\", params={\"inPer\": \"50\",\"maxReturn\": \"10\"})\n",
        "pprint(results)"
      ],
      "execution_count": null,
      "outputs": []
    },
    {
      "cell_type": "markdown",
      "metadata": {
        "id": "1J9PbEfeJZdY"
      },
      "source": [
        "## Clear the Whole Graph\n",
        "DANGER ZONE"
      ]
    },
    {
      "cell_type": "code",
      "metadata": {
        "colab": {
          "base_uri": "https://localhost:8080/",
          "height": 70
        },
        "id": "2uNaRku7ixVK",
        "outputId": "bd1c3c05-c0ca-4708-d457-98e028697ba9"
      },
      "source": [
        "conn.gsql('''\n",
        "USE GLOBAL\n",
        "DROP ALL\n",
        "''')"
      ],
      "execution_count": null,
      "outputs": [
        {
          "output_type": "execute_result",
          "data": {
            "application/vnd.google.colaboratory.intrinsic+json": {
              "type": "string"
            },
            "text/plain": [
              "'Dropping all, about 1 minute ...\\nAbort all active loading jobs\\nTry to abort all loading jobs on graph MyGraph, it may take a while ...\\n[ABORT_SUCCESS] No active Loading Job to abort.\\nResetting GPE...\\nSuccessfully reset GPE\\nStopping GPE GSE\\nSuccessfully stopped GPE GSE in 4.580 seconds\\nClearing graph store...\\nSuccessfully cleared graph store\\nStarting GPE GSE RESTPP\\nSuccessfully started GPE GSE RESTPP in 0.091 seconds\\nEverything is dropped.'"
            ]
          },
          "metadata": {},
          "execution_count": 5
        }
      ]
    },
    {
      "cell_type": "code",
      "metadata": {
        "id": "E8LePQlwWrs5"
      },
      "source": [
        ""
      ],
      "execution_count": null,
      "outputs": []
    }
  ]
}